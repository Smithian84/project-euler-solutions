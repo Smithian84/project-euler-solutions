{
 "cells": [
  {
   "cell_type": "code",
   "execution_count": 21,
   "id": "6aa6c604-d59d-40db-a978-92da003cb292",
   "metadata": {},
   "outputs": [
    {
     "name": "stdout",
     "output_type": "stream",
     "text": [
      "233168\n"
     ]
    }
   ],
   "source": [
    "#Problem 1\n",
    "\n",
    "sum_of_multiples = 0 \n",
    "\n",
    "for count in range(1000): #for loop method\n",
    "    if count % 3 == 0 or count % 5 == 0:\n",
    "        sum_of_multiples += count\n",
    "\n",
    "print(sum_of_multiples)"
   ]
  },
  {
   "cell_type": "code",
   "execution_count": 152,
   "id": "1530592f-0379-4df3-8663-6b60ecaeed0a",
   "metadata": {},
   "outputs": [
    {
     "name": "stdout",
     "output_type": "stream",
     "text": [
      "4613732\n"
     ]
    }
   ],
   "source": [
    "#Problem 2\n",
    "\n",
    "fibonacci = [1, 1] #first and second number in fibonacci sequence\n",
    "number = 2 #third number in fibonacci sequence\n",
    "sum_of_evens = 0\n",
    "\n",
    "while number < 4000000: #increment up to the limit\n",
    "    fibonacci.append(number) #add the number to the fibonacci list\n",
    "    number = number + fibonacci[-2] #number equals itself plus the previous number\n",
    "\n",
    "for num in fibonacci: #cycle through all numbers in the fibonacci list\n",
    "    if num % 2 == 0: #if the number is even\n",
    "        sum_of_evens = sum_of_evens + num #sum the evens together\n",
    "\n",
    "print(sum_of_evens)"
   ]
  },
  {
   "cell_type": "code",
   "execution_count": 153,
   "id": "1ba52be2-14c8-4923-8672-541f0f541710",
   "metadata": {},
   "outputs": [
    {
     "name": "stdout",
     "output_type": "stream",
     "text": [
      "6857\n"
     ]
    }
   ],
   "source": [
    "#Problem 3\n",
    "\n",
    "n = 600851475143\n",
    "\n",
    "for i in range(3, int(math.sqrt(n)) + 1, 2): #looping in increments of two up until the square root of the number (largest possible factor)\n",
    "    while n % i == 0: #while there is no remainder\n",
    "        maxPrime = i #i is the largest divisible factor\n",
    "        n = n / i #n is now divided by the factor\n",
    "\n",
    "print(maxPrime)"
   ]
  },
  {
   "cell_type": "code",
   "execution_count": 96,
   "id": "1b0423fb-96a5-4e55-bac2-00accbf6784d",
   "metadata": {},
   "outputs": [
    {
     "name": "stdout",
     "output_type": "stream",
     "text": [
      "906609\n"
     ]
    }
   ],
   "source": [
    "#Problem 4\n",
    "\n",
    "pallindrome = []\n",
    "\n",
    "for x in range(100, 999): #loop through all three digit numbers\n",
    "    for y in range(100, 999): #loop through all three digit numbers inside larger loop\n",
    "        product = x * y #creating the product of the three digit numbers\n",
    "        if str(product) == str(product)[::-1]: #checking if the string of the product is a pallindrome\n",
    "            pallindrome.append(product) #adding pallindrome to the list\n",
    "\n",
    "print(max(pallindrome))      "
   ]
  },
  {
   "cell_type": "code",
   "execution_count": 247,
   "id": "8b14503f-d469-4c68-8a8b-37e815de87f2",
   "metadata": {},
   "outputs": [
    {
     "data": {
      "text/plain": [
       "232792560"
      ]
     },
     "execution_count": 247,
     "metadata": {},
     "output_type": "execute_result"
    }
   ],
   "source": [
    "#Problem 5\n",
    "\n",
    "factors = []\n",
    "limit = 20\n",
    "\n",
    "for x in range(1, limit+1):\n",
    "    factors.append(x)\n",
    "    \n",
    "def lcm(*factors):\n",
    "    values = [value for value in factors] #create a list of all factors\n",
    "    if factors: #if factors has any values\n",
    "        n = max(factors) #selecting largest factor\n",
    "        m = n #assigning the largest factor for increments\n",
    "        while any( n % value for value in factors ): #while the max factor divided by any value has a remainder\n",
    "            n +=m #increase n in increments of the largest factor\n",
    "        return n #return the largest \n",
    "    return 0\n",
    "\n",
    "lcm(*factors) #calling the lcm function with the factors"
   ]
  },
  {
   "cell_type": "code",
   "execution_count": 245,
   "id": "1dc1ddd4-e4ac-46b3-88a5-d3b82a1b9ac8",
   "metadata": {},
   "outputs": [
    {
     "name": "stdout",
     "output_type": "stream",
     "text": [
      "328350\n",
      "24502500\n"
     ]
    },
    {
     "data": {
      "text/plain": [
       "24174150"
      ]
     },
     "execution_count": 245,
     "metadata": {},
     "output_type": "execute_result"
    }
   ],
   "source": [
    "#Problem 6\n",
    "\n",
    "natural_numbers = []\n",
    "limit = 100\n",
    "\n",
    "for x in range(1, limit+1): #create the list of the first 100 natural numbers\n",
    "    natural_numbers.append(x)\n",
    "\n",
    "def sumOfSquares(*values):\n",
    "    sum = 0\n",
    "    for x in values:\n",
    "        sum += x ** 2 #sum the squares of the values\n",
    "    return sum\n",
    "\n",
    "def squareOfSums(*values):\n",
    "    sum = 0\n",
    "    for x in values:\n",
    "        sum += x\n",
    "    return sum*sum #square the sum of the values\n",
    "\n",
    "def difference(square_of_sums, sum_of_squares):\n",
    "    answer = square_of_sums - sum_of_squares #subtract the sum of squares from the square of sums\n",
    "    return answer\n",
    "\n",
    "print(sumOfSquares(*natural_numbers))\n",
    "print(squareOfSums(*natural_numbers))\n",
    "\n",
    "sum_of_squares = sumOfSquares(*natural_numbers)\n",
    "square_of_sums = squareOfSums(*natural_numbers)\n",
    "\n",
    "difference(square_of_sums, sum_of_squares)"
   ]
  },
  {
   "cell_type": "code",
   "execution_count": 222,
   "id": "9a04a63b-9248-4922-8a37-5ae424f41c5e",
   "metadata": {},
   "outputs": [
    {
     "name": "stdout",
     "output_type": "stream",
     "text": [
      "104743\n",
      "10001\n"
     ]
    }
   ],
   "source": [
    "#Problem 7\n",
    "\n",
    "def isPrime(number):\n",
    "    if number <= 1: #any number of 1 or less is not a prime\n",
    "        return False\n",
    "    for i in range(2, int(number**0.5) + 1): #checking up to the square root of the input number\n",
    "        if number % i == 0: #if any divisor gives no remainde then not a prime\n",
    "            return False\n",
    "    return True #otherwise true it is a prime number\n",
    "\n",
    "num = 1\n",
    "count = 0\n",
    "isPrime(104743)\n",
    "\n",
    "while count < 10002: #count up to the 10001st prime number\n",
    "    if isPrime(num): #if the number is prime\n",
    "        count += 1 #add to the count of primes\n",
    "        if count == 10001: #if we've reached the 10001st prime then break the while loop\n",
    "            break\n",
    "    num += 1 #increment through  natural numbers\n",
    "\n",
    "print(num)\n",
    "print(count)"
   ]
  },
  {
   "cell_type": "code",
   "execution_count": 241,
   "id": "8f80a0b8-31db-4725-80e5-37373487eccd",
   "metadata": {},
   "outputs": [
    {
     "name": "stdout",
     "output_type": "stream",
     "text": [
      "23514624000\n"
     ]
    }
   ],
   "source": [
    "#Problem 8\n",
    "\n",
    "number = 7316717653133062491922511967442657474235534919493496983520312774506326239578318016984801869478851843858615607891129494954595017379583319528532088055111254069874715852386305071569329096329522744304355766896648950445244523161731856403098711121722383113622298934233803081353362766142828064444866452387493035890729629049156044077239071381051585930796086670172427121883998797908792274921901699720888093776657273330010533678812202354218097512545405947522435258490771167055601360483958644670632441572215539753697817977846174064955149290862569321978468622482839722413756570560574902614079729686524145351004748216637048440319989000889524345065854122758866688116427171479924442928230863465674813919123162824586178664583591245665294765456828489128831426076900422421902267105562632111110937054421750694165896040807198403850962455444362981230987879927244284909188845801561660979191338754992005240636899125607176060588611646710940507754100225698315520005593572972571636269561882670428252483600823257530420752963450\n",
    "\n",
    "max_product = 0\n",
    "\n",
    "for x in range(len(str(number)) - 13):\n",
    "    product = 1\n",
    "    for y in range(13):\n",
    "        digit = int(str(number)[x + y])\n",
    "        product = product * digit\n",
    "    if product > max_product:\n",
    "        max_product = product\n",
    "\n",
    "print(max_product)"
   ]
  },
  {
   "cell_type": "code",
   "execution_count": 270,
   "id": "99e58082-592e-48da-8c50-1d41af6d471e",
   "metadata": {},
   "outputs": [
    {
     "name": "stdout",
     "output_type": "stream",
     "text": [
      "200 375 425\n",
      "200 375 425\n",
      "31875000\n"
     ]
    }
   ],
   "source": [
    "#Problem 9\n",
    "\n",
    "total = 1000\n",
    "done = False\n",
    "\n",
    "for a in range(total//4 + 1, 2, -1): #starting with a at 250, cycle down to 2\n",
    "    for b in range(a + 1, total//2 + 1): #starting with b at 1 more than a, cyle up to 500\n",
    "        c = total - (a + b) #c equals the total minus a and b to satisfy the condition\n",
    "        if c <= b: #if c is less than b than pythagorean triple not satisfied\n",
    "            break\n",
    "        if a**2 + b**2 == c**2: #if pythagoras triangle condition is satisfied\n",
    "            print(a, b, c)\n",
    "            done = True #all conditions met\n",
    "            break\n",
    "    if done:\n",
    "        break\n",
    "\n",
    "product = a * b * c\n",
    "\n",
    "print(a, b, c)\n",
    "print(product)"
   ]
  },
  {
   "cell_type": "code",
   "execution_count": 272,
   "id": "3ab809d1-9cf4-4087-8f11-ab014a564e79",
   "metadata": {},
   "outputs": [
    {
     "name": "stdout",
     "output_type": "stream",
     "text": [
      "31875000\n"
     ]
    }
   ],
   "source": [
    "#Problem 9 Lambda Solution\n",
    "\n",
    "figures = ((a, b) for a in range(1, 1000) for b in range(a+1, 1000) if a + b <= 1000) #list of all pairings from 1 to 1000\n",
    "condition = lambda a, b: (1000 - a - b) ** 2 == a ** 2 + b ** 2 #pythagorean condition\n",
    "\n",
    "for x in figures: #for all pairings in the figures list\n",
    "    if condition(x[0], x[1]): #if the condition is met with a pairing of two figures\n",
    "        print(x[0] * x[1] * (1000 - x[0] - x[1])) #print the product of the three numbers\n",
    "        break"
   ]
  },
  {
   "cell_type": "code",
   "execution_count": 294,
   "id": "2b6bd1dc-07ea-4d6b-815c-4be979f6ee1a",
   "metadata": {},
   "outputs": [
    {
     "name": "stdout",
     "output_type": "stream",
     "text": [
      "142913828922\n"
     ]
    }
   ],
   "source": [
    "#Problem 10\n",
    "\n",
    "def isPrime(number):\n",
    "    if number <= 1: #any number of 1 or less is not a prime\n",
    "        return False\n",
    "    for i in range(2, int(number**0.5) + 1): #checking up to the square root of the input number\n",
    "        if number % i == 0: #if any divisor gives no remainde then not a prime\n",
    "            return False\n",
    "    return True #otherwise true it is a prime number\n",
    "\n",
    "sum = 2 #first prime number separet to allow for loop to increment by 2\n",
    "\n",
    "for x in range(3, 2000000, 2): #start at 3 and increment by 2 up to 2 million\n",
    "    if isPrime(x): #if the number is a prime then add it to the sum\n",
    "        sum += x\n",
    "\n",
    "print(sum)"
   ]
  },
  {
   "cell_type": "code",
   "execution_count": null,
   "id": "e2151a17-6ede-4c8e-b4b6-2e12e1d77695",
   "metadata": {},
   "outputs": [],
   "source": []
  }
 ],
 "metadata": {
  "kernelspec": {
   "display_name": "Python 3 (ipykernel)",
   "language": "python",
   "name": "python3"
  },
  "language_info": {
   "codemirror_mode": {
    "name": "ipython",
    "version": 3
   },
   "file_extension": ".py",
   "mimetype": "text/x-python",
   "name": "python",
   "nbconvert_exporter": "python",
   "pygments_lexer": "ipython3",
   "version": "3.11.7"
  }
 },
 "nbformat": 4,
 "nbformat_minor": 5
}
